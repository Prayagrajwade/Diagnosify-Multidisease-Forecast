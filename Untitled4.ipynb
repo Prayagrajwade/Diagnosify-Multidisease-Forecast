{
 "cells": [
  {
   "cell_type": "code",
   "execution_count": 3,
   "id": "c4462bb2",
   "metadata": {},
   "outputs": [
    {
     "ename": "IntegrityError",
     "evalue": "UNIQUE constraint failed: products.product_id",
     "output_type": "error",
     "traceback": [
      "\u001b[1;31m---------------------------------------------------------------------------\u001b[0m",
      "\u001b[1;31mIntegrityError\u001b[0m                            Traceback (most recent call last)",
      "Input \u001b[1;32mIn [3]\u001b[0m, in \u001b[0;36m<cell line: 26>\u001b[1;34m()\u001b[0m\n\u001b[0;32m     18\u001b[0m cursor\u001b[38;5;241m.\u001b[39mexecute(\u001b[38;5;124m'''\u001b[39m\n\u001b[0;32m     19\u001b[0m \u001b[38;5;124m    CREATE TABLE IF NOT EXISTS products (\u001b[39m\n\u001b[0;32m     20\u001b[0m \u001b[38;5;124m        product_id INTEGER PRIMARY KEY,\u001b[39m\n\u001b[0;32m     21\u001b[0m \u001b[38;5;124m        product_name TEXT\u001b[39m\n\u001b[0;32m     22\u001b[0m \u001b[38;5;124m    )\u001b[39m\n\u001b[0;32m     23\u001b[0m \u001b[38;5;124m'''\u001b[39m)\n\u001b[0;32m     25\u001b[0m \u001b[38;5;66;03m# Insert some sample data\u001b[39;00m\n\u001b[1;32m---> 26\u001b[0m \u001b[43mcursor\u001b[49m\u001b[38;5;241;43m.\u001b[39;49m\u001b[43mexecutemany\u001b[49m\u001b[43m(\u001b[49m\u001b[38;5;124;43m'''\u001b[39;49m\n\u001b[0;32m     27\u001b[0m \u001b[38;5;124;43m    INSERT INTO products (product_id, product_name) VALUES (?, ?)\u001b[39;49m\n\u001b[0;32m     28\u001b[0m \u001b[38;5;124;43m'''\u001b[39;49m\u001b[43m,\u001b[49m\u001b[43m \u001b[49m\u001b[43m[\u001b[49m\u001b[43m(\u001b[49m\u001b[38;5;241;43m1\u001b[39;49m\u001b[43m,\u001b[49m\u001b[43m \u001b[49m\u001b[38;5;124;43m'\u001b[39;49m\u001b[38;5;124;43mProduct A\u001b[39;49m\u001b[38;5;124;43m'\u001b[39;49m\u001b[43m)\u001b[49m\u001b[43m,\u001b[49m\u001b[43m \u001b[49m\u001b[43m(\u001b[49m\u001b[38;5;241;43m2\u001b[39;49m\u001b[43m,\u001b[49m\u001b[43m \u001b[49m\u001b[38;5;124;43m'\u001b[39;49m\u001b[38;5;124;43mProduct B\u001b[39;49m\u001b[38;5;124;43m'\u001b[39;49m\u001b[43m)\u001b[49m\u001b[43m]\u001b[49m\u001b[43m)\u001b[49m\n\u001b[0;32m     30\u001b[0m cursor\u001b[38;5;241m.\u001b[39mexecutemany(\u001b[38;5;124m'''\u001b[39m\n\u001b[0;32m     31\u001b[0m \u001b[38;5;124m    INSERT INTO sales (product_id, sale_date, quantity, revenue) VALUES (?, ?, ?, ?)\u001b[39m\n\u001b[0;32m     32\u001b[0m \u001b[38;5;124m'''\u001b[39m, [(\u001b[38;5;241m1\u001b[39m, \u001b[38;5;124m'\u001b[39m\u001b[38;5;124m2023-01-01\u001b[39m\u001b[38;5;124m'\u001b[39m, \u001b[38;5;241m10\u001b[39m, \u001b[38;5;241m100.0\u001b[39m), (\u001b[38;5;241m2\u001b[39m, \u001b[38;5;124m'\u001b[39m\u001b[38;5;124m2023-01-01\u001b[39m\u001b[38;5;124m'\u001b[39m, \u001b[38;5;241m5\u001b[39m, \u001b[38;5;241m50.0\u001b[39m)])\n\u001b[0;32m     35\u001b[0m cursor\u001b[38;5;241m.\u001b[39mexecutemany(\u001b[38;5;124m'''\u001b[39m\n\u001b[0;32m     36\u001b[0m \u001b[38;5;124m    INSERT INTO sales (product_id, sale_date, quantity, revenue) VALUES (?, ?, ?, ?)\u001b[39m\n\u001b[0;32m     37\u001b[0m \u001b[38;5;124m'''\u001b[39m, [(\u001b[38;5;241m1\u001b[39m, \u001b[38;5;124m'\u001b[39m\u001b[38;5;124m2003-09-21\u001b[39m\u001b[38;5;124m'\u001b[39m, \u001b[38;5;241m50\u001b[39m, \u001b[38;5;241m10.0\u001b[39m), (\u001b[38;5;241m3\u001b[39m, \u001b[38;5;124m'\u001b[39m\u001b[38;5;124m2003-09-21\u001b[39m\u001b[38;5;124m'\u001b[39m, \u001b[38;5;241m5\u001b[39m, \u001b[38;5;241m50.0\u001b[39m)])\n",
      "\u001b[1;31mIntegrityError\u001b[0m: UNIQUE constraint failed: products.product_id"
     ]
    }
   ],
   "source": [
    "import sqlite3\n",
    "\n",
    "# Create a SQLite database\n",
    "conn = sqlite3.connect(\"sales_data.db\")\n",
    "cursor = conn.cursor()\n",
    "\n",
    "# Create tables (sales and products) and insert sample data\n",
    "cursor.execute('''\n",
    "    CREATE TABLE IF NOT EXISTS sales (\n",
    "        transaction_id INTEGER PRIMARY KEY AUTOINCREMENT,\n",
    "        product_id INTEGER,\n",
    "        sale_date DATE,\n",
    "        quantity INTEGER,\n",
    "        revenue REAL\n",
    "    )\n",
    "''')\n",
    "\n",
    "cursor.execute('''\n",
    "    CREATE TABLE IF NOT EXISTS products (\n",
    "        product_id INTEGER PRIMARY KEY,\n",
    "        product_name TEXT\n",
    "    )\n",
    "''')\n",
    "\n",
    "# Insert some sample data\n",
    "cursor.executemany('''\n",
    "    INSERT INTO products (product_id, product_name) VALUES (?, ?)\n",
    "''', [(1, 'Product A'), (2, 'Product B')])\n",
    "\n",
    "cursor.executemany('''\n",
    "    INSERT INTO sales (product_id, sale_date, quantity, revenue) VALUES (?, ?, ?, ?)\n",
    "''', [(1, '2023-01-01', 10, 100.0), (2, '2023-01-01', 5, 50.0)])\n",
    "\n",
    "\n",
    "cursor.executemany('''\n",
    "    INSERT INTO sales (product_id, sale_date, quantity, revenue) VALUES (?, ?, ?, ?)\n",
    "''', [(1, '2003-09-21', 50, 10.0), (3, '2003-09-21', 5, 50.0)])\n",
    "\n",
    "conn.commit()\n",
    "conn.close()\n"
   ]
  },
  {
   "cell_type": "code",
   "execution_count": 2,
   "id": "6f011872",
   "metadata": {},
   "outputs": [
    {
     "name": "stdout",
     "output_type": "stream",
     "text": [
      "             total_quantity         total_revenue        \n",
      "month               2003-09 2023-01       2003-09 2023-01\n",
      "product_name                                             \n",
      "Product A              50.0    10.0          10.0   100.0\n",
      "Product B               NaN     5.0           NaN    50.0\n"
     ]
    }
   ],
   "source": [
    "import pandas as pd\n",
    "\n",
    "# Load data into a DataFrame\n",
    "conn = sqlite3.connect(\"sales_data.db\")\n",
    "query = '''\n",
    "    SELECT p.product_name, strftime('%Y-%m', s.sale_date) as month,\n",
    "        SUM(s.quantity) as total_quantity, SUM(s.revenue) as total_revenue\n",
    "    FROM sales s\n",
    "    JOIN products p ON s.product_id = p.product_id\n",
    "    GROUP BY p.product_name, month\n",
    "    ORDER BY p.product_name, month\n",
    "'''\n",
    "df = pd.read_sql_query(query, conn)\n",
    "conn.close()\n",
    "\n",
    "# Pivot the data for analysis\n",
    "pivot_table = pd.pivot_table(df, values=['total_quantity', 'total_revenue'], \n",
    "                              index='product_name', columns='month')\n",
    "\n",
    "# Display the result\n",
    "print(pivot_table)\n"
   ]
  },
  {
   "cell_type": "code",
   "execution_count": null,
   "id": "145574ca",
   "metadata": {},
   "outputs": [],
   "source": [
    " "
   ]
  }
 ],
 "metadata": {
  "kernelspec": {
   "display_name": "Python 3 (ipykernel)",
   "language": "python",
   "name": "python3"
  },
  "language_info": {
   "codemirror_mode": {
    "name": "ipython",
    "version": 3
   },
   "file_extension": ".py",
   "mimetype": "text/x-python",
   "name": "python",
   "nbconvert_exporter": "python",
   "pygments_lexer": "ipython3",
   "version": "3.9.12"
  }
 },
 "nbformat": 4,
 "nbformat_minor": 5
}
